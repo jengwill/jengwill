{
 "cells": [
  {
   "cell_type": "code",
   "execution_count": 123,
   "id": "38725f6d",
   "metadata": {},
   "outputs": [],
   "source": [
    "#import the libraries\n",
    "import pandas as pd\n",
    "import numpy as np\n",
    "import seaborn as sns\n",
    "from sklearn.model_selection import train_test_split\n",
    "from sklearn.ensemble import RandomForestRegressor, HistGradientBoostingRegressor\n",
    "from sklearn.impute import SimpleImputer\n",
    "from sklearn.metrics import mean_squared_error, r2_score, mean_absolute_error\n",
    "import matplotlib.pyplot as plt"
   ]
  },
  {
   "cell_type": "code",
   "execution_count": 124,
   "id": "45d4e62b",
   "metadata": {},
   "outputs": [
    {
     "data": {
      "text/html": [
       "<div>\n",
       "<style scoped>\n",
       "    .dataframe tbody tr th:only-of-type {\n",
       "        vertical-align: middle;\n",
       "    }\n",
       "\n",
       "    .dataframe tbody tr th {\n",
       "        vertical-align: top;\n",
       "    }\n",
       "\n",
       "    .dataframe thead th {\n",
       "        text-align: right;\n",
       "    }\n",
       "</style>\n",
       "<table border=\"1\" class=\"dataframe\">\n",
       "  <thead>\n",
       "    <tr style=\"text-align: right;\">\n",
       "      <th></th>\n",
       "      <th>obs_id</th>\n",
       "      <th>SiteId</th>\n",
       "      <th>Timestamp</th>\n",
       "      <th>ForecastId</th>\n",
       "      <th>Value</th>\n",
       "    </tr>\n",
       "  </thead>\n",
       "  <tbody>\n",
       "    <tr>\n",
       "      <th>7539</th>\n",
       "      <td>4498843</td>\n",
       "      <td>51</td>\n",
       "      <td>2015-12-22T00:00:00+00:00</td>\n",
       "      <td>1275</td>\n",
       "      <td>16373.182909</td>\n",
       "    </tr>\n",
       "    <tr>\n",
       "      <th>7543</th>\n",
       "      <td>4135747</td>\n",
       "      <td>51</td>\n",
       "      <td>2015-12-24T01:00:00+00:00</td>\n",
       "      <td>1275</td>\n",
       "      <td>16161.761841</td>\n",
       "    </tr>\n",
       "    <tr>\n",
       "      <th>7542</th>\n",
       "      <td>6046033</td>\n",
       "      <td>51</td>\n",
       "      <td>2015-12-22T08:00:00+00:00</td>\n",
       "      <td>1275</td>\n",
       "      <td>269157.404420</td>\n",
       "    </tr>\n",
       "    <tr>\n",
       "      <th>7541</th>\n",
       "      <td>6114413</td>\n",
       "      <td>51</td>\n",
       "      <td>2015-12-22T07:00:00+00:00</td>\n",
       "      <td>1275</td>\n",
       "      <td>127554.313817</td>\n",
       "    </tr>\n",
       "    <tr>\n",
       "      <th>7540</th>\n",
       "      <td>2923733</td>\n",
       "      <td>51</td>\n",
       "      <td>2015-12-22T04:00:00+00:00</td>\n",
       "      <td>1275</td>\n",
       "      <td>16449.171930</td>\n",
       "    </tr>\n",
       "  </tbody>\n",
       "</table>\n",
       "</div>"
      ],
      "text/plain": [
       "       obs_id  SiteId                  Timestamp  ForecastId          Value\n",
       "7539  4498843      51  2015-12-22T00:00:00+00:00        1275   16373.182909\n",
       "7543  4135747      51  2015-12-24T01:00:00+00:00        1275   16161.761841\n",
       "7542  6046033      51  2015-12-22T08:00:00+00:00        1275  269157.404420\n",
       "7541  6114413      51  2015-12-22T07:00:00+00:00        1275  127554.313817\n",
       "7540  2923733      51  2015-12-22T04:00:00+00:00        1275   16449.171930"
      ]
     },
     "execution_count": 124,
     "metadata": {},
     "output_type": "execute_result"
    }
   ],
   "source": [
    "#defining start and end rows in my dataset to reduce the energy processing took up as it often resulted in error\n",
    "start_row = 20600\n",
    "end_row = 206600\n",
    "desired_start_siteid = 51\n",
    "#importing my datasets\n",
    "#using a delimiter to match read_csv so it comes out as separate columns instead of a single string\n",
    "consumption_data = pd.read_csv('power-laws-forecasting-energy-consumption-test-data.csv', sep=';', skiprows=range(20600, start_row), nrows=end_row - start_row)\n",
    "#filtering and sorting the data so it will output properly\n",
    "filtered_data = consumption_data[consumption_data['SiteId'] >= desired_start_siteid]\n",
    "sorted_data = filtered_data.sort_values(by='SiteId', ascending=True)\n",
    "sorted_data.head()"
   ]
  },
  {
   "cell_type": "code",
   "execution_count": 125,
   "id": "0d046104",
   "metadata": {},
   "outputs": [
    {
     "data": {
      "text/html": [
       "<div>\n",
       "<style scoped>\n",
       "    .dataframe tbody tr th:only-of-type {\n",
       "        vertical-align: middle;\n",
       "    }\n",
       "\n",
       "    .dataframe tbody tr th {\n",
       "        vertical-align: top;\n",
       "    }\n",
       "\n",
       "    .dataframe thead th {\n",
       "        text-align: right;\n",
       "    }\n",
       "</style>\n",
       "<table border=\"1\" class=\"dataframe\">\n",
       "  <thead>\n",
       "    <tr style=\"text-align: right;\">\n",
       "      <th></th>\n",
       "      <th>obs_id</th>\n",
       "      <th>SiteId</th>\n",
       "      <th>Timestamp</th>\n",
       "      <th>ForecastId</th>\n",
       "      <th>Value</th>\n",
       "    </tr>\n",
       "  </thead>\n",
       "  <tbody>\n",
       "    <tr>\n",
       "      <th>0</th>\n",
       "      <td>6003613</td>\n",
       "      <td>123</td>\n",
       "      <td>2016-06-18T17:30:00+00:00</td>\n",
       "      <td>2782</td>\n",
       "      <td>8438.412854</td>\n",
       "    </tr>\n",
       "    <tr>\n",
       "      <th>1</th>\n",
       "      <td>4776511</td>\n",
       "      <td>123</td>\n",
       "      <td>2016-06-19T04:15:00+00:00</td>\n",
       "      <td>2782</td>\n",
       "      <td>124.322841</td>\n",
       "    </tr>\n",
       "    <tr>\n",
       "      <th>2</th>\n",
       "      <td>173273</td>\n",
       "      <td>123</td>\n",
       "      <td>2016-06-19T17:00:00+00:00</td>\n",
       "      <td>2782</td>\n",
       "      <td>8536.835104</td>\n",
       "    </tr>\n",
       "    <tr>\n",
       "      <th>3</th>\n",
       "      <td>2770283</td>\n",
       "      <td>123</td>\n",
       "      <td>2016-06-19T23:00:00+00:00</td>\n",
       "      <td>2782</td>\n",
       "      <td>122.596135</td>\n",
       "    </tr>\n",
       "    <tr>\n",
       "      <th>4</th>\n",
       "      <td>4405265</td>\n",
       "      <td>123</td>\n",
       "      <td>2016-06-19T23:45:00+00:00</td>\n",
       "      <td>2782</td>\n",
       "      <td>124.322841</td>\n",
       "    </tr>\n",
       "  </tbody>\n",
       "</table>\n",
       "</div>"
      ],
      "text/plain": [
       "    obs_id  SiteId                  Timestamp  ForecastId        Value\n",
       "0  6003613     123  2016-06-18T17:30:00+00:00        2782  8438.412854\n",
       "1  4776511     123  2016-06-19T04:15:00+00:00        2782   124.322841\n",
       "2   173273     123  2016-06-19T17:00:00+00:00        2782  8536.835104\n",
       "3  2770283     123  2016-06-19T23:00:00+00:00        2782   122.596135\n",
       "4  4405265     123  2016-06-19T23:45:00+00:00        2782   124.322841"
      ]
     },
     "execution_count": 125,
     "metadata": {},
     "output_type": "execute_result"
    }
   ],
   "source": [
    "start_row = 206413\n",
    "end_row = 206600\n",
    "consumption_data2 = pd.read_csv('power-laws-forecasting-energy-consumption-training-data.csv', sep=';', skiprows=range(1, start_row), nrows=end_row - start_row)\n",
    "consumption_data2.head()"
   ]
  },
  {
   "cell_type": "code",
   "execution_count": 126,
   "id": "783cf285",
   "metadata": {},
   "outputs": [
    {
     "data": {
      "text/html": [
       "<div>\n",
       "<style scoped>\n",
       "    .dataframe tbody tr th:only-of-type {\n",
       "        vertical-align: middle;\n",
       "    }\n",
       "\n",
       "    .dataframe tbody tr th {\n",
       "        vertical-align: top;\n",
       "    }\n",
       "\n",
       "    .dataframe thead th {\n",
       "        text-align: right;\n",
       "    }\n",
       "</style>\n",
       "<table border=\"1\" class=\"dataframe\">\n",
       "  <thead>\n",
       "    <tr style=\"text-align: right;\">\n",
       "      <th></th>\n",
       "      <th>SiteId</th>\n",
       "      <th>Surface</th>\n",
       "      <th>Sampling</th>\n",
       "      <th>BaseTemperature</th>\n",
       "      <th>MondayIsDayOff</th>\n",
       "      <th>TuesdayIsDayOff</th>\n",
       "      <th>WednesdayIsDayOff</th>\n",
       "      <th>ThursdayIsDayOff</th>\n",
       "      <th>FridayIsDayOff</th>\n",
       "      <th>SaturdayIsDayOff</th>\n",
       "      <th>SundayIsDayOff</th>\n",
       "    </tr>\n",
       "  </thead>\n",
       "  <tbody>\n",
       "    <tr>\n",
       "      <th>0</th>\n",
       "      <td>207</td>\n",
       "      <td>7964.873347</td>\n",
       "      <td>30.0</td>\n",
       "      <td>18.0</td>\n",
       "      <td>False</td>\n",
       "      <td>False</td>\n",
       "      <td>False</td>\n",
       "      <td>False</td>\n",
       "      <td>False</td>\n",
       "      <td>True</td>\n",
       "      <td>True</td>\n",
       "    </tr>\n",
       "    <tr>\n",
       "      <th>1</th>\n",
       "      <td>7</td>\n",
       "      <td>15168.125971</td>\n",
       "      <td>30.0</td>\n",
       "      <td>18.0</td>\n",
       "      <td>False</td>\n",
       "      <td>False</td>\n",
       "      <td>False</td>\n",
       "      <td>False</td>\n",
       "      <td>False</td>\n",
       "      <td>True</td>\n",
       "      <td>True</td>\n",
       "    </tr>\n",
       "    <tr>\n",
       "      <th>2</th>\n",
       "      <td>74</td>\n",
       "      <td>424.340663</td>\n",
       "      <td>15.0</td>\n",
       "      <td>18.0</td>\n",
       "      <td>False</td>\n",
       "      <td>False</td>\n",
       "      <td>False</td>\n",
       "      <td>False</td>\n",
       "      <td>False</td>\n",
       "      <td>True</td>\n",
       "      <td>True</td>\n",
       "    </tr>\n",
       "    <tr>\n",
       "      <th>3</th>\n",
       "      <td>239</td>\n",
       "      <td>1164.822636</td>\n",
       "      <td>15.0</td>\n",
       "      <td>18.0</td>\n",
       "      <td>False</td>\n",
       "      <td>False</td>\n",
       "      <td>False</td>\n",
       "      <td>False</td>\n",
       "      <td>False</td>\n",
       "      <td>True</td>\n",
       "      <td>True</td>\n",
       "    </tr>\n",
       "    <tr>\n",
       "      <th>4</th>\n",
       "      <td>274</td>\n",
       "      <td>1468.246690</td>\n",
       "      <td>5.0</td>\n",
       "      <td>18.0</td>\n",
       "      <td>False</td>\n",
       "      <td>False</td>\n",
       "      <td>False</td>\n",
       "      <td>False</td>\n",
       "      <td>False</td>\n",
       "      <td>True</td>\n",
       "      <td>True</td>\n",
       "    </tr>\n",
       "  </tbody>\n",
       "</table>\n",
       "</div>"
      ],
      "text/plain": [
       "   SiteId       Surface  Sampling  BaseTemperature  MondayIsDayOff  \\\n",
       "0     207   7964.873347      30.0             18.0           False   \n",
       "1       7  15168.125971      30.0             18.0           False   \n",
       "2      74    424.340663      15.0             18.0           False   \n",
       "3     239   1164.822636      15.0             18.0           False   \n",
       "4     274   1468.246690       5.0             18.0           False   \n",
       "\n",
       "   TuesdayIsDayOff  WednesdayIsDayOff  ThursdayIsDayOff  FridayIsDayOff  \\\n",
       "0            False              False             False           False   \n",
       "1            False              False             False           False   \n",
       "2            False              False             False           False   \n",
       "3            False              False             False           False   \n",
       "4            False              False             False           False   \n",
       "\n",
       "   SaturdayIsDayOff  SundayIsDayOff  \n",
       "0              True            True  \n",
       "1              True            True  \n",
       "2              True            True  \n",
       "3              True            True  \n",
       "4              True            True  "
      ]
     },
     "execution_count": 126,
     "metadata": {},
     "output_type": "execute_result"
    }
   ],
   "source": [
    "building_metadata = pd.read_csv('power-laws-forecasting-energy-consumption-metadata.csv', sep=';')\n",
    "\n",
    "building_metadata.head()"
   ]
  },
  {
   "cell_type": "code",
   "execution_count": 127,
   "id": "133a8697",
   "metadata": {},
   "outputs": [],
   "source": [
    "#pd.unique(weather_data.SiteId)"
   ]
  },
  {
   "cell_type": "code",
   "execution_count": 128,
   "id": "4a6e1cac",
   "metadata": {
    "scrolled": true
   },
   "outputs": [
    {
     "data": {
      "text/html": [
       "<div>\n",
       "<style scoped>\n",
       "    .dataframe tbody tr th:only-of-type {\n",
       "        vertical-align: middle;\n",
       "    }\n",
       "\n",
       "    .dataframe tbody tr th {\n",
       "        vertical-align: top;\n",
       "    }\n",
       "\n",
       "    .dataframe thead th {\n",
       "        text-align: right;\n",
       "    }\n",
       "</style>\n",
       "<table border=\"1\" class=\"dataframe\">\n",
       "  <thead>\n",
       "    <tr style=\"text-align: right;\">\n",
       "      <th></th>\n",
       "      <th>Timestamp</th>\n",
       "      <th>Temperature</th>\n",
       "      <th>Distance</th>\n",
       "      <th>SiteId</th>\n",
       "    </tr>\n",
       "  </thead>\n",
       "  <tbody>\n",
       "    <tr>\n",
       "      <th>0</th>\n",
       "      <td>2017-03-03T19:00:00+00:00</td>\n",
       "      <td>10.6</td>\n",
       "      <td>27.489346</td>\n",
       "      <td>51</td>\n",
       "    </tr>\n",
       "    <tr>\n",
       "      <th>1</th>\n",
       "      <td>2017-03-03T19:20:00+00:00</td>\n",
       "      <td>11.0</td>\n",
       "      <td>28.663082</td>\n",
       "      <td>51</td>\n",
       "    </tr>\n",
       "    <tr>\n",
       "      <th>2</th>\n",
       "      <td>2017-03-03T20:00:00+00:00</td>\n",
       "      <td>6.3</td>\n",
       "      <td>28.307039</td>\n",
       "      <td>51</td>\n",
       "    </tr>\n",
       "    <tr>\n",
       "      <th>3</th>\n",
       "      <td>2017-03-03T21:55:00+00:00</td>\n",
       "      <td>10.0</td>\n",
       "      <td>29.797449</td>\n",
       "      <td>51</td>\n",
       "    </tr>\n",
       "    <tr>\n",
       "      <th>4</th>\n",
       "      <td>2017-03-03T23:00:00+00:00</td>\n",
       "      <td>5.4</td>\n",
       "      <td>28.307039</td>\n",
       "      <td>51</td>\n",
       "    </tr>\n",
       "  </tbody>\n",
       "</table>\n",
       "</div>"
      ],
      "text/plain": [
       "                   Timestamp  Temperature   Distance  SiteId\n",
       "0  2017-03-03T19:00:00+00:00         10.6  27.489346      51\n",
       "1  2017-03-03T19:20:00+00:00         11.0  28.663082      51\n",
       "2  2017-03-03T20:00:00+00:00          6.3  28.307039      51\n",
       "3  2017-03-03T21:55:00+00:00         10.0  29.797449      51\n",
       "4  2017-03-03T23:00:00+00:00          5.4  28.307039      51"
      ]
     },
     "execution_count": 128,
     "metadata": {},
     "output_type": "execute_result"
    }
   ],
   "source": [
    "#defining the number of rows that the system reads\n",
    "nRowsRead = 1000\n",
    "\n",
    "weather_data = pd.read_csv('power-laws-forecasting-energy-consumption-weather.csv', sep=';', nrows=nRowsRead)\n",
    "\n",
    "weather_data.head()"
   ]
  },
  {
   "cell_type": "code",
   "execution_count": 129,
   "id": "11eb36f0",
   "metadata": {
    "scrolled": true
   },
   "outputs": [
    {
     "data": {
      "text/html": [
       "<div>\n",
       "<style scoped>\n",
       "    .dataframe tbody tr th:only-of-type {\n",
       "        vertical-align: middle;\n",
       "    }\n",
       "\n",
       "    .dataframe tbody tr th {\n",
       "        vertical-align: top;\n",
       "    }\n",
       "\n",
       "    .dataframe thead th {\n",
       "        text-align: right;\n",
       "    }\n",
       "</style>\n",
       "<table border=\"1\" class=\"dataframe\">\n",
       "  <thead>\n",
       "    <tr style=\"text-align: right;\">\n",
       "      <th></th>\n",
       "      <th>Date</th>\n",
       "      <th>Holiday</th>\n",
       "      <th>SiteId</th>\n",
       "    </tr>\n",
       "  </thead>\n",
       "  <tbody>\n",
       "    <tr>\n",
       "      <th>0</th>\n",
       "      <td>2016-02-15</td>\n",
       "      <td>Washington's Birthday</td>\n",
       "      <td>1</td>\n",
       "    </tr>\n",
       "    <tr>\n",
       "      <th>1</th>\n",
       "      <td>2017-05-29</td>\n",
       "      <td>Memorial Day</td>\n",
       "      <td>1</td>\n",
       "    </tr>\n",
       "    <tr>\n",
       "      <th>2</th>\n",
       "      <td>2017-11-23</td>\n",
       "      <td>Thanksgiving Day</td>\n",
       "      <td>1</td>\n",
       "    </tr>\n",
       "    <tr>\n",
       "      <th>3</th>\n",
       "      <td>2017-12-29</td>\n",
       "      <td>New Years Eve Shift</td>\n",
       "      <td>1</td>\n",
       "    </tr>\n",
       "    <tr>\n",
       "      <th>4</th>\n",
       "      <td>2017-12-31</td>\n",
       "      <td>New Years Eve</td>\n",
       "      <td>1</td>\n",
       "    </tr>\n",
       "  </tbody>\n",
       "</table>\n",
       "</div>"
      ],
      "text/plain": [
       "         Date                Holiday  SiteId\n",
       "0  2016-02-15  Washington's Birthday       1\n",
       "1  2017-05-29           Memorial Day       1\n",
       "2  2017-11-23       Thanksgiving Day       1\n",
       "3  2017-12-29    New Years Eve Shift       1\n",
       "4  2017-12-31          New Years Eve       1"
      ]
     },
     "execution_count": 129,
     "metadata": {},
     "output_type": "execute_result"
    }
   ],
   "source": [
    "holidays_data = pd.read_csv('power-laws-forecasting-energy-consumption-holidays.csv', sep=';')\n",
    "\n",
    "holidays_data.head()"
   ]
  },
  {
   "cell_type": "code",
   "execution_count": 133,
   "id": "7bb9dbfd",
   "metadata": {},
   "outputs": [
    {
     "data": {
      "text/plain": [
       "(8387, 3)"
      ]
     },
     "execution_count": 133,
     "metadata": {},
     "output_type": "execute_result"
    }
   ],
   "source": [
    "#checking the shape to ensure data was imported properly\n",
    "holidays_data.shape"
   ]
  },
  {
   "cell_type": "code",
   "execution_count": 134,
   "id": "b462da60",
   "metadata": {},
   "outputs": [
    {
     "data": {
      "text/plain": [
       "(1000, 4)"
      ]
     },
     "execution_count": 134,
     "metadata": {},
     "output_type": "execute_result"
    }
   ],
   "source": [
    "weather_data.shape"
   ]
  },
  {
   "cell_type": "code",
   "execution_count": 135,
   "id": "5a5884ae",
   "metadata": {},
   "outputs": [
    {
     "data": {
      "text/plain": [
       "(186000, 5)"
      ]
     },
     "execution_count": 135,
     "metadata": {},
     "output_type": "execute_result"
    }
   ],
   "source": [
    "consumption_data.shape"
   ]
  },
  {
   "cell_type": "code",
   "execution_count": 136,
   "id": "d596d15b",
   "metadata": {},
   "outputs": [
    {
     "data": {
      "text/plain": [
       "(267, 11)"
      ]
     },
     "execution_count": 136,
     "metadata": {},
     "output_type": "execute_result"
    }
   ],
   "source": [
    "building_metadata.shape"
   ]
  },
  {
   "cell_type": "code",
   "execution_count": 138,
   "id": "55379f58",
   "metadata": {},
   "outputs": [
    {
     "data": {
      "text/plain": [
       "0   2017-03-03 19:00:00+00:00\n",
       "1   2017-03-03 19:20:00+00:00\n",
       "2   2017-03-03 20:00:00+00:00\n",
       "3   2017-03-03 21:55:00+00:00\n",
       "4   2017-03-03 23:00:00+00:00\n",
       "Name: Timestamp, dtype: datetime64[ns, UTC]"
      ]
     },
     "execution_count": 138,
     "metadata": {},
     "output_type": "execute_result"
    }
   ],
   "source": [
    "#coverting to datetime format\n",
    "pd.to_datetime(weather_data.Timestamp).head()"
   ]
  },
  {
   "cell_type": "code",
   "execution_count": 139,
   "id": "c6419689",
   "metadata": {},
   "outputs": [
    {
     "data": {
      "text/plain": [
       "0   2016-02-15\n",
       "1   2017-05-29\n",
       "2   2017-11-23\n",
       "3   2017-12-29\n",
       "4   2017-12-31\n",
       "Name: Date, dtype: datetime64[ns]"
      ]
     },
     "execution_count": 139,
     "metadata": {},
     "output_type": "execute_result"
    }
   ],
   "source": [
    "pd.to_datetime(holidays_data.Date).head()"
   ]
  },
  {
   "cell_type": "code",
   "execution_count": 140,
   "id": "616f6b8f",
   "metadata": {},
   "outputs": [
    {
     "data": {
      "text/html": [
       "<div>\n",
       "<style scoped>\n",
       "    .dataframe tbody tr th:only-of-type {\n",
       "        vertical-align: middle;\n",
       "    }\n",
       "\n",
       "    .dataframe tbody tr th {\n",
       "        vertical-align: top;\n",
       "    }\n",
       "\n",
       "    .dataframe thead th {\n",
       "        text-align: right;\n",
       "    }\n",
       "</style>\n",
       "<table border=\"1\" class=\"dataframe\">\n",
       "  <thead>\n",
       "    <tr style=\"text-align: right;\">\n",
       "      <th></th>\n",
       "      <th>SiteId</th>\n",
       "      <th>Surface</th>\n",
       "      <th>Sampling</th>\n",
       "      <th>BaseTemperature</th>\n",
       "      <th>MondayIsDayOff</th>\n",
       "      <th>TuesdayIsDayOff</th>\n",
       "      <th>WednesdayIsDayOff</th>\n",
       "      <th>ThursdayIsDayOff</th>\n",
       "      <th>FridayIsDayOff</th>\n",
       "      <th>SaturdayIsDayOff</th>\n",
       "      <th>SundayIsDayOff</th>\n",
       "      <th>Timestamp_x</th>\n",
       "      <th>Temperature</th>\n",
       "      <th>Distance</th>\n",
       "      <th>obs_id</th>\n",
       "      <th>Timestamp_y</th>\n",
       "      <th>ForecastId</th>\n",
       "      <th>Value</th>\n",
       "    </tr>\n",
       "  </thead>\n",
       "  <tbody>\n",
       "    <tr>\n",
       "      <th>0</th>\n",
       "      <td>51</td>\n",
       "      <td>7142.355221</td>\n",
       "      <td>15.0</td>\n",
       "      <td>18.0</td>\n",
       "      <td>False</td>\n",
       "      <td>False</td>\n",
       "      <td>False</td>\n",
       "      <td>False</td>\n",
       "      <td>False</td>\n",
       "      <td>True</td>\n",
       "      <td>True</td>\n",
       "      <td>2017-03-03T19:00:00+00:00</td>\n",
       "      <td>10.6</td>\n",
       "      <td>27.489346</td>\n",
       "      <td>760593</td>\n",
       "      <td>2015-12-20T02:00:00+00:00</td>\n",
       "      <td>1275</td>\n",
       "      <td>16556.414501</td>\n",
       "    </tr>\n",
       "    <tr>\n",
       "      <th>1</th>\n",
       "      <td>51</td>\n",
       "      <td>7142.355221</td>\n",
       "      <td>15.0</td>\n",
       "      <td>18.0</td>\n",
       "      <td>False</td>\n",
       "      <td>False</td>\n",
       "      <td>False</td>\n",
       "      <td>False</td>\n",
       "      <td>False</td>\n",
       "      <td>True</td>\n",
       "      <td>True</td>\n",
       "      <td>2017-03-03T19:00:00+00:00</td>\n",
       "      <td>10.6</td>\n",
       "      <td>27.489346</td>\n",
       "      <td>6713825</td>\n",
       "      <td>2015-12-20T13:00:00+00:00</td>\n",
       "      <td>1275</td>\n",
       "      <td>7429.765311</td>\n",
       "    </tr>\n",
       "    <tr>\n",
       "      <th>2</th>\n",
       "      <td>51</td>\n",
       "      <td>7142.355221</td>\n",
       "      <td>15.0</td>\n",
       "      <td>18.0</td>\n",
       "      <td>False</td>\n",
       "      <td>False</td>\n",
       "      <td>False</td>\n",
       "      <td>False</td>\n",
       "      <td>False</td>\n",
       "      <td>True</td>\n",
       "      <td>True</td>\n",
       "      <td>2017-03-03T19:00:00+00:00</td>\n",
       "      <td>10.6</td>\n",
       "      <td>27.489346</td>\n",
       "      <td>6872139</td>\n",
       "      <td>2015-12-20T20:00:00+00:00</td>\n",
       "      <td>1275</td>\n",
       "      <td>11896.571593</td>\n",
       "    </tr>\n",
       "    <tr>\n",
       "      <th>3</th>\n",
       "      <td>51</td>\n",
       "      <td>7142.355221</td>\n",
       "      <td>15.0</td>\n",
       "      <td>18.0</td>\n",
       "      <td>False</td>\n",
       "      <td>False</td>\n",
       "      <td>False</td>\n",
       "      <td>False</td>\n",
       "      <td>False</td>\n",
       "      <td>True</td>\n",
       "      <td>True</td>\n",
       "      <td>2017-03-03T19:00:00+00:00</td>\n",
       "      <td>10.6</td>\n",
       "      <td>27.489346</td>\n",
       "      <td>6704637</td>\n",
       "      <td>2015-12-21T06:00:00+00:00</td>\n",
       "      <td>1275</td>\n",
       "      <td>31426.975788</td>\n",
       "    </tr>\n",
       "    <tr>\n",
       "      <th>4</th>\n",
       "      <td>51</td>\n",
       "      <td>7142.355221</td>\n",
       "      <td>15.0</td>\n",
       "      <td>18.0</td>\n",
       "      <td>False</td>\n",
       "      <td>False</td>\n",
       "      <td>False</td>\n",
       "      <td>False</td>\n",
       "      <td>False</td>\n",
       "      <td>True</td>\n",
       "      <td>True</td>\n",
       "      <td>2017-03-03T19:00:00+00:00</td>\n",
       "      <td>10.6</td>\n",
       "      <td>27.489346</td>\n",
       "      <td>7550461</td>\n",
       "      <td>2015-12-21T11:00:00+00:00</td>\n",
       "      <td>1275</td>\n",
       "      <td>279955.199272</td>\n",
       "    </tr>\n",
       "  </tbody>\n",
       "</table>\n",
       "</div>"
      ],
      "text/plain": [
       "   SiteId      Surface  Sampling  BaseTemperature  MondayIsDayOff  \\\n",
       "0      51  7142.355221      15.0             18.0           False   \n",
       "1      51  7142.355221      15.0             18.0           False   \n",
       "2      51  7142.355221      15.0             18.0           False   \n",
       "3      51  7142.355221      15.0             18.0           False   \n",
       "4      51  7142.355221      15.0             18.0           False   \n",
       "\n",
       "   TuesdayIsDayOff  WednesdayIsDayOff  ThursdayIsDayOff  FridayIsDayOff  \\\n",
       "0            False              False             False           False   \n",
       "1            False              False             False           False   \n",
       "2            False              False             False           False   \n",
       "3            False              False             False           False   \n",
       "4            False              False             False           False   \n",
       "\n",
       "   SaturdayIsDayOff  SundayIsDayOff                Timestamp_x  Temperature  \\\n",
       "0              True            True  2017-03-03T19:00:00+00:00         10.6   \n",
       "1              True            True  2017-03-03T19:00:00+00:00         10.6   \n",
       "2              True            True  2017-03-03T19:00:00+00:00         10.6   \n",
       "3              True            True  2017-03-03T19:00:00+00:00         10.6   \n",
       "4              True            True  2017-03-03T19:00:00+00:00         10.6   \n",
       "\n",
       "    Distance   obs_id                Timestamp_y  ForecastId          Value  \n",
       "0  27.489346   760593  2015-12-20T02:00:00+00:00        1275   16556.414501  \n",
       "1  27.489346  6713825  2015-12-20T13:00:00+00:00        1275    7429.765311  \n",
       "2  27.489346  6872139  2015-12-20T20:00:00+00:00        1275   11896.571593  \n",
       "3  27.489346  6704637  2015-12-21T06:00:00+00:00        1275   31426.975788  \n",
       "4  27.489346  7550461  2015-12-21T11:00:00+00:00        1275  279955.199272  "
      ]
     },
     "execution_count": 140,
     "metadata": {},
     "output_type": "execute_result"
    }
   ],
   "source": [
    "#merging data from all the datasets onto the SiteId\n",
    "merged_data = pd.merge(building_metadata, weather_data, on='SiteId')\n",
    "#merged_data = pd.merge(merged_data, holidays_data, on='SiteId')\n",
    "\n",
    "#merged_data = pd.merge(consumption_data, weather_data, on='SiteId')\n",
    "\n",
    "merged_data = pd.merge(merged_data, consumption_data, on='SiteId')\n",
    "\n",
    "merged_data.head()"
   ]
  },
  {
   "cell_type": "code",
   "execution_count": 143,
   "id": "db6f0f61",
   "metadata": {},
   "outputs": [],
   "source": [
    "#merged_data['Distance'].isnull().sum()"
   ]
  },
  {
   "cell_type": "code",
   "execution_count": 145,
   "id": "94af9cf6",
   "metadata": {},
   "outputs": [],
   "source": [
    "# print('Holiday' in holidays_data.columns)\n",
    "\n",
    "# print('Holiday_SiteId' in merged_data.columns)"
   ]
  },
  {
   "cell_type": "code",
   "execution_count": 146,
   "id": "e80c9381",
   "metadata": {},
   "outputs": [],
   "source": [
    "#utilizing lag for my time series data to take into account historical values of the energy data\n",
    "#creates a new column inside the loop\n",
    "#shifts values downward by n positions \n",
    "\n",
    "lags = range(1, 7)  \n",
    "#creating range of integers to represent the numnber time periods the data will be shifted\n",
    "for lag in lags:\n",
    "    merged_data[f'Lag_{lag}'] = merged_data.groupby('SiteId')['Value'].shift(lag)\n",
    "#making the lagged integers be from the siteid and value columns"
   ]
  },
  {
   "cell_type": "code",
   "execution_count": 150,
   "id": "ae218f09",
   "metadata": {},
   "outputs": [],
   "source": [
    "#taking 80% of the data to put in the training set \n",
    "train_size = int(len(merged_data) * 0.8)\n",
    "#creating the test data by slicing to divide the merged data to help assess how well the model generalizes\n",
    "train_data, test_data = merged_data[:train_size], merged_data[train_size:]"
   ]
  },
  {
   "cell_type": "code",
   "execution_count": 153,
   "id": "bb69e9ff",
   "metadata": {},
   "outputs": [],
   "source": [
    "#train_data = train_data[~y_train.isnull()]\n",
    "#test_data = test_data[~y_test.isnull()]"
   ]
  },
  {
   "cell_type": "code",
   "execution_count": 155,
   "id": "fbf22a5b",
   "metadata": {},
   "outputs": [],
   "source": [
    "#model = HistGradientBoostingRegressor()"
   ]
  },
  {
   "cell_type": "code",
   "execution_count": 156,
   "id": "6a2c54c5",
   "metadata": {},
   "outputs": [],
   "source": [
    "# #input features for RFR to predict the target variable incl. lagged inputs\n",
    "features = ['Temperature', 'Surface', 'Sampling', 'BaseTemperature'] + [f'Lag_{lag}' for lag in lags]\n",
    "#splitting into train and test datasets\n",
    "X_train, y_train = train_data[features], train_data['Value']\n",
    "X_test, y_test = test_data[features], test_data['Value']"
   ]
  },
  {
   "cell_type": "code",
   "execution_count": 158,
   "id": "bd9c4597",
   "metadata": {},
   "outputs": [],
   "source": [
    "#print(len(merged_data.columns))\n",
    "\n",
    "#unique_columns = set()\n",
    "\n",
    "#list to store duplicate column names\n",
    "#duplicate_columns = []\n",
    "\n",
    "#iterate through columns\n",
    "#for column in merged_data.columns:\n",
    "    #if the column name is not in the set, add it to the set\n",
    "    #if it's already in the set, add it to the duplicate_columns list\n",
    "    #if column not in unique_columns:\n",
    "        #unique_columns.add(column)\n",
    "    #else:\n",
    "        #duplicate_columns.append(column)\n",
    "\n",
    "#drop the duplicate columns from the DataFrame\n",
    "#merged_data = merged_data.drop(columns=duplicate_columns)"
   ]
  },
  {
   "cell_type": "code",
   "execution_count": 160,
   "id": "5d5ae79c",
   "metadata": {},
   "outputs": [
    {
     "name": "stdout",
     "output_type": "stream",
     "text": [
      "X_train contains missing values.\n",
      "Missing value counts by column:\n",
      "Temperature        0\n",
      "Surface            0\n",
      "Sampling           0\n",
      "BaseTemperature    0\n",
      "Lag_1              1\n",
      "Lag_2              2\n",
      "Lag_3              3\n",
      "Lag_4              4\n",
      "Lag_5              5\n",
      "Lag_6              6\n",
      "dtype: int64\n",
      "Shape of X_train: (25600, 10)\n"
     ]
    },
    {
     "data": {
      "text/html": [
       "<div>\n",
       "<style scoped>\n",
       "    .dataframe tbody tr th:only-of-type {\n",
       "        vertical-align: middle;\n",
       "    }\n",
       "\n",
       "    .dataframe tbody tr th {\n",
       "        vertical-align: top;\n",
       "    }\n",
       "\n",
       "    .dataframe thead th {\n",
       "        text-align: right;\n",
       "    }\n",
       "</style>\n",
       "<table border=\"1\" class=\"dataframe\">\n",
       "  <thead>\n",
       "    <tr style=\"text-align: right;\">\n",
       "      <th></th>\n",
       "      <th>Temperature</th>\n",
       "      <th>Surface</th>\n",
       "      <th>Sampling</th>\n",
       "      <th>BaseTemperature</th>\n",
       "      <th>Lag_1</th>\n",
       "      <th>Lag_2</th>\n",
       "      <th>Lag_3</th>\n",
       "      <th>Lag_4</th>\n",
       "      <th>Lag_5</th>\n",
       "      <th>Lag_6</th>\n",
       "    </tr>\n",
       "  </thead>\n",
       "  <tbody>\n",
       "    <tr>\n",
       "      <th>0</th>\n",
       "      <td>10.6</td>\n",
       "      <td>7142.355221</td>\n",
       "      <td>15.0</td>\n",
       "      <td>18.0</td>\n",
       "      <td>NaN</td>\n",
       "      <td>NaN</td>\n",
       "      <td>NaN</td>\n",
       "      <td>NaN</td>\n",
       "      <td>NaN</td>\n",
       "      <td>NaN</td>\n",
       "    </tr>\n",
       "    <tr>\n",
       "      <th>1</th>\n",
       "      <td>10.6</td>\n",
       "      <td>7142.355221</td>\n",
       "      <td>15.0</td>\n",
       "      <td>18.0</td>\n",
       "      <td>16556.414501</td>\n",
       "      <td>NaN</td>\n",
       "      <td>NaN</td>\n",
       "      <td>NaN</td>\n",
       "      <td>NaN</td>\n",
       "      <td>NaN</td>\n",
       "    </tr>\n",
       "    <tr>\n",
       "      <th>2</th>\n",
       "      <td>10.6</td>\n",
       "      <td>7142.355221</td>\n",
       "      <td>15.0</td>\n",
       "      <td>18.0</td>\n",
       "      <td>7429.765311</td>\n",
       "      <td>16556.414501</td>\n",
       "      <td>NaN</td>\n",
       "      <td>NaN</td>\n",
       "      <td>NaN</td>\n",
       "      <td>NaN</td>\n",
       "    </tr>\n",
       "    <tr>\n",
       "      <th>3</th>\n",
       "      <td>10.6</td>\n",
       "      <td>7142.355221</td>\n",
       "      <td>15.0</td>\n",
       "      <td>18.0</td>\n",
       "      <td>11896.571593</td>\n",
       "      <td>7429.765311</td>\n",
       "      <td>16556.414501</td>\n",
       "      <td>NaN</td>\n",
       "      <td>NaN</td>\n",
       "      <td>NaN</td>\n",
       "    </tr>\n",
       "    <tr>\n",
       "      <th>4</th>\n",
       "      <td>10.6</td>\n",
       "      <td>7142.355221</td>\n",
       "      <td>15.0</td>\n",
       "      <td>18.0</td>\n",
       "      <td>31426.975788</td>\n",
       "      <td>11896.571593</td>\n",
       "      <td>7429.765311</td>\n",
       "      <td>16556.414501</td>\n",
       "      <td>NaN</td>\n",
       "      <td>NaN</td>\n",
       "    </tr>\n",
       "  </tbody>\n",
       "</table>\n",
       "</div>"
      ],
      "text/plain": [
       "   Temperature      Surface  Sampling  BaseTemperature         Lag_1  \\\n",
       "0         10.6  7142.355221      15.0             18.0           NaN   \n",
       "1         10.6  7142.355221      15.0             18.0  16556.414501   \n",
       "2         10.6  7142.355221      15.0             18.0   7429.765311   \n",
       "3         10.6  7142.355221      15.0             18.0  11896.571593   \n",
       "4         10.6  7142.355221      15.0             18.0  31426.975788   \n",
       "\n",
       "          Lag_2         Lag_3         Lag_4  Lag_5  Lag_6  \n",
       "0           NaN           NaN           NaN    NaN    NaN  \n",
       "1           NaN           NaN           NaN    NaN    NaN  \n",
       "2  16556.414501           NaN           NaN    NaN    NaN  \n",
       "3   7429.765311  16556.414501           NaN    NaN    NaN  \n",
       "4  11896.571593   7429.765311  16556.414501    NaN    NaN  "
      ]
     },
     "execution_count": 160,
     "metadata": {},
     "output_type": "execute_result"
    }
   ],
   "source": [
    "#checking for the missing values in X_train before running my model\n",
    "if X_train.empty:\n",
    "    print(\"X_train is empty.\")\n",
    "else:\n",
    "    missing_values = X_train.isnull().sum()\n",
    "    if missing_values.sum() == 0:\n",
    "        print(\"X_train does not contain missing values.\")\n",
    "    else:\n",
    "        print(\"X_train contains missing values.\")\n",
    "        print(\"Missing value counts by column:\")\n",
    "        print(missing_values)\n",
    "\n",
    "#check the shape of X_train\n",
    "print(\"Shape of X_train:\", X_train.shape)\n",
    "\n",
    "X_train.head()"
   ]
  },
  {
   "cell_type": "code",
   "execution_count": 161,
   "id": "b6059865",
   "metadata": {},
   "outputs": [],
   "source": [
    "#filling missing values using the imputer and utilzing median for the outliers\n",
    "imputer = SimpleImputer(strategy='median')\n",
    "X_train = imputer.fit_transform(X_train)\n",
    "X_test = imputer.transform(X_test)"
   ]
  },
  {
   "cell_type": "code",
   "execution_count": 165,
   "id": "c81cbdf8",
   "metadata": {},
   "outputs": [],
   "source": [
    "#using RFR for regression\n",
    "#setting the seed to 42 so it is reproducible\n",
    "model = RandomForestRegressor(n_estimators=100, random_state=42)"
   ]
  },
  {
   "cell_type": "code",
   "execution_count": 166,
   "id": "656c38b7",
   "metadata": {},
   "outputs": [
    {
     "name": "stdout",
     "output_type": "stream",
     "text": [
      "[[1.06000000e+01 7.14235522e+03 1.50000000e+01 ... 1.63731829e+04\n",
      "  1.63731829e+04 1.63731829e+04]\n",
      " [1.06000000e+01 7.14235522e+03 1.50000000e+01 ... 1.63731829e+04\n",
      "  1.63731829e+04 1.63731829e+04]\n",
      " [1.06000000e+01 7.14235522e+03 1.50000000e+01 ... 1.63731829e+04\n",
      "  1.63731829e+04 1.63731829e+04]\n",
      " ...\n",
      " [2.30000000e+01 7.14235522e+03 1.50000000e+01 ... 2.38568759e+04\n",
      "  2.87484853e+05 2.83630862e+05]\n",
      " [2.30000000e+01 7.14235522e+03 1.50000000e+01 ... 1.12843697e+04\n",
      "  2.38568759e+04 2.87484853e+05]\n",
      " [2.30000000e+01 7.14235522e+03 1.50000000e+01 ... 1.06507193e+04\n",
      "  1.12843697e+04 2.38568759e+04]]\n"
     ]
    },
    {
     "data": {
      "text/html": [
       "<style>#sk-container-id-3 {color: black;}#sk-container-id-3 pre{padding: 0;}#sk-container-id-3 div.sk-toggleable {background-color: white;}#sk-container-id-3 label.sk-toggleable__label {cursor: pointer;display: block;width: 100%;margin-bottom: 0;padding: 0.3em;box-sizing: border-box;text-align: center;}#sk-container-id-3 label.sk-toggleable__label-arrow:before {content: \"▸\";float: left;margin-right: 0.25em;color: #696969;}#sk-container-id-3 label.sk-toggleable__label-arrow:hover:before {color: black;}#sk-container-id-3 div.sk-estimator:hover label.sk-toggleable__label-arrow:before {color: black;}#sk-container-id-3 div.sk-toggleable__content {max-height: 0;max-width: 0;overflow: hidden;text-align: left;background-color: #f0f8ff;}#sk-container-id-3 div.sk-toggleable__content pre {margin: 0.2em;color: black;border-radius: 0.25em;background-color: #f0f8ff;}#sk-container-id-3 input.sk-toggleable__control:checked~div.sk-toggleable__content {max-height: 200px;max-width: 100%;overflow: auto;}#sk-container-id-3 input.sk-toggleable__control:checked~label.sk-toggleable__label-arrow:before {content: \"▾\";}#sk-container-id-3 div.sk-estimator input.sk-toggleable__control:checked~label.sk-toggleable__label {background-color: #d4ebff;}#sk-container-id-3 div.sk-label input.sk-toggleable__control:checked~label.sk-toggleable__label {background-color: #d4ebff;}#sk-container-id-3 input.sk-hidden--visually {border: 0;clip: rect(1px 1px 1px 1px);clip: rect(1px, 1px, 1px, 1px);height: 1px;margin: -1px;overflow: hidden;padding: 0;position: absolute;width: 1px;}#sk-container-id-3 div.sk-estimator {font-family: monospace;background-color: #f0f8ff;border: 1px dotted black;border-radius: 0.25em;box-sizing: border-box;margin-bottom: 0.5em;}#sk-container-id-3 div.sk-estimator:hover {background-color: #d4ebff;}#sk-container-id-3 div.sk-parallel-item::after {content: \"\";width: 100%;border-bottom: 1px solid gray;flex-grow: 1;}#sk-container-id-3 div.sk-label:hover label.sk-toggleable__label {background-color: #d4ebff;}#sk-container-id-3 div.sk-serial::before {content: \"\";position: absolute;border-left: 1px solid gray;box-sizing: border-box;top: 0;bottom: 0;left: 50%;z-index: 0;}#sk-container-id-3 div.sk-serial {display: flex;flex-direction: column;align-items: center;background-color: white;padding-right: 0.2em;padding-left: 0.2em;position: relative;}#sk-container-id-3 div.sk-item {position: relative;z-index: 1;}#sk-container-id-3 div.sk-parallel {display: flex;align-items: stretch;justify-content: center;background-color: white;position: relative;}#sk-container-id-3 div.sk-item::before, #sk-container-id-3 div.sk-parallel-item::before {content: \"\";position: absolute;border-left: 1px solid gray;box-sizing: border-box;top: 0;bottom: 0;left: 50%;z-index: -1;}#sk-container-id-3 div.sk-parallel-item {display: flex;flex-direction: column;z-index: 1;position: relative;background-color: white;}#sk-container-id-3 div.sk-parallel-item:first-child::after {align-self: flex-end;width: 50%;}#sk-container-id-3 div.sk-parallel-item:last-child::after {align-self: flex-start;width: 50%;}#sk-container-id-3 div.sk-parallel-item:only-child::after {width: 0;}#sk-container-id-3 div.sk-dashed-wrapped {border: 1px dashed gray;margin: 0 0.4em 0.5em 0.4em;box-sizing: border-box;padding-bottom: 0.4em;background-color: white;}#sk-container-id-3 div.sk-label label {font-family: monospace;font-weight: bold;display: inline-block;line-height: 1.2em;}#sk-container-id-3 div.sk-label-container {text-align: center;}#sk-container-id-3 div.sk-container {/* jupyter's `normalize.less` sets `[hidden] { display: none; }` but bootstrap.min.css set `[hidden] { display: none !important; }` so we also need the `!important` here to be able to override the default hidden behavior on the sphinx rendered scikit-learn.org. See: https://github.com/scikit-learn/scikit-learn/issues/21755 */display: inline-block !important;position: relative;}#sk-container-id-3 div.sk-text-repr-fallback {display: none;}</style><div id=\"sk-container-id-3\" class=\"sk-top-container\"><div class=\"sk-text-repr-fallback\"><pre>RandomForestRegressor(random_state=42)</pre><b>In a Jupyter environment, please rerun this cell to show the HTML representation or trust the notebook. <br />On GitHub, the HTML representation is unable to render, please try loading this page with nbviewer.org.</b></div><div class=\"sk-container\" hidden><div class=\"sk-item\"><div class=\"sk-estimator sk-toggleable\"><input class=\"sk-toggleable__control sk-hidden--visually\" id=\"sk-estimator-id-3\" type=\"checkbox\" checked><label for=\"sk-estimator-id-3\" class=\"sk-toggleable__label sk-toggleable__label-arrow\">RandomForestRegressor</label><div class=\"sk-toggleable__content\"><pre>RandomForestRegressor(random_state=42)</pre></div></div></div></div></div>"
      ],
      "text/plain": [
       "RandomForestRegressor(random_state=42)"
      ]
     },
     "execution_count": 166,
     "metadata": {},
     "output_type": "execute_result"
    }
   ],
   "source": [
    "#fitting the model to the training data\n",
    "print(X_train)\n",
    "model.fit(X_train, y_train)"
   ]
  },
  {
   "cell_type": "code",
   "execution_count": 167,
   "id": "71ed0e4b",
   "metadata": {},
   "outputs": [],
   "source": [
    "#making predictions on the test data\n",
    "y_pred = model.predict(X_test)"
   ]
  },
  {
   "cell_type": "code",
   "execution_count": 168,
   "id": "49511c76",
   "metadata": {},
   "outputs": [
    {
     "name": "stdout",
     "output_type": "stream",
     "text": [
      "6.057569176233171e-19\n"
     ]
    }
   ],
   "source": [
    "#calculation the mean squared error\n",
    "#based on this score, we can see that the difference between acual and predicted values that it is very close to the actual valyes\n",
    "mse = mean_squared_error(y_test, y_pred)\n",
    "print(mse)"
   ]
  },
  {
   "cell_type": "code",
   "execution_count": 169,
   "id": "f23ea612",
   "metadata": {},
   "outputs": [
    {
     "name": "stdout",
     "output_type": "stream",
     "text": [
      "7.783038722910975e-10\n"
     ]
    }
   ],
   "source": [
    "#calculation the root mean squared error\n",
    "#average deviation is very low\n",
    "rmse = np.sqrt(mse)\n",
    "print(rmse)"
   ]
  },
  {
   "cell_type": "code",
   "execution_count": 170,
   "id": "0d0247f3",
   "metadata": {},
   "outputs": [
    {
     "name": "stdout",
     "output_type": "stream",
     "text": [
      "3.2669305483068455e-10\n"
     ]
    }
   ],
   "source": [
    "#calculating the mean absolute error\n",
    "#absolute difference is very low - less sensitive to outliers\n",
    "mae = mean_absolute_error(y_test, y_pred)\n",
    "print(mae)"
   ]
  },
  {
   "cell_type": "code",
   "execution_count": 172,
   "id": "0c39d571",
   "metadata": {},
   "outputs": [
    {
     "data": {
      "text/plain": [
       "<Axes: xlabel='Temperature', ylabel='Count'>"
      ]
     },
     "execution_count": 172,
     "metadata": {},
     "output_type": "execute_result"
    },
    {
     "data": {
      "image/png": "[encoded data removed]",
      "text/plain": [
       "<Figure size 640x480 with 1 Axes>"
      ]
     },
     "metadata": {},
     "output_type": "display_data"
    }
   ],
   "source": [
    "sns.histplot(data=merged_data, x='Temperature', kde=True)\n",
    "#using a histplot to see the line between actual and predicted with the temperature value - seems to show a very close fit"
   ]
  },
  {
   "cell_type": "code",
   "execution_count": 173,
   "id": "5fe279f9",
   "metadata": {
    "scrolled": true
   },
   "outputs": [
    {
     "data": {
      "image/png": "[encoded data removed]",
      "text/plain": [
       "<Figure size 1000x600 with 1 Axes>"
      ]
     },
     "metadata": {},
     "output_type": "display_data"
    }
   ],
   "source": [
    "colors = ['pink' if pred >= actual else 'blue' for actual, pred in zip(y_test, y_pred)]\n",
    "\n",
    "plt.figure(figsize=(10, 6))\n",
    "plt.scatter(y_test, y_pred, c=colors, alpha=0.5)\n",
    "plt.xlabel('Actual Values')\n",
    "plt.ylabel('Predicted Values')\n",
    "plt.title('Actual vs. Predicted Values')\n",
    "\n",
    "plt.legend(handles=[\n",
    "    plt.Line2D([0], [0], marker='o', color='w', label='Correct Prediction', markerfacecolor='blue', markersize=10),\n",
    "    plt.Line2D([0], [0], marker='o', color='w', label='Incorrect Prediction', markerfacecolor='pink', markersize=10)\n",
    "])\n",
    "\n",
    "plt.show()\n",
    "#using a scatterplot and changing the colors to more clearly see the actual v predicted values\n",
    "#based off this, I am a little off on the machine learning's predictions but is seems very close"
   ]
  },
  {
   "cell_type": "markdown",
   "id": "d90b3950",
   "metadata": {},
   "source": [
    "Project Conclusion\n",
    "\n",
    "In this project, I analyzed energy consumption data and built a machine learning model to make predictions. Here are the key takeaways:\n",
    "\n",
    "Data Analysis Insights:\n",
    "\n",
    "I explored various datasets including energy consumption, weather, and metadata.\n",
    "\n",
    "Lagged features were introduced to account for historical patterns in energy consumption.\n",
    "\n",
    "Data quality checks, such as identifying missing values and column presence, were conducted to ensure data integrity.\n",
    "\n",
    "Machine Learning Model Performance:\n",
    "\n",
    "I used a Random Forest Regressor which is a machine learning algorithm to make energy consumption predictions.\n",
    "\n",
    "The metrics I used to analyze this algorithm  like Mean Squared Error (MSE), Root Mean Squared Error (RMSE), and Mean Absolute Error (MAE) indicated minimal prediction errors leading me to trust the model's accuracy.\n",
    "\n",
    "Real-World Applications:\n",
    "\n",
    "My machine learning model has the potential for real-world applications in energy consumption forecasting. Its precision and ability to capture historical patterns make it a valuable tool for energy management and optimization.\n",
    "\n",
    "Industries and organizations that rely on energy resources, such as power plants, commercial buildings, and smart grids, can benefit from accurate energy consumption predictions.\n",
    "\n",
    "By optimizing energy usage based on accurate forecasts, businesses can reduce costs, minimize waste, and contribute to sustainability efforts.\n",
    "\n",
    "In conclusion, this project highlights the power of data analysis and machine learning in addressing real-world challenges. There were a lot of ups and downs in creating this model but, in the end, I gained incredible insights from my analysis and process and believe that the model's performance adds to the potential for improved energy management and efficiency in various sectors. As I continue to refine and validate my model in the future, its practical applications in optimizing energy resources will become increasingly promising."
   ]
  }
 ],
 "metadata": {
  "kernelspec": {
   "display_name": "Python 3 (ipykernel)",
   "language": "python",
   "name": "python3"
  },
  "language_info": {
   "codemirror_mode": {
    "name": "ipython",
    "version": 3
   },
   "file_extension": ".py",
   "mimetype": "text/x-python",
   "name": "python",
   "nbconvert_exporter": "python",
   "pygments_lexer": "ipython3",
   "version": "3.10.9"
  }
 },
 "nbformat": 4,
 "nbformat_minor": 5
}
